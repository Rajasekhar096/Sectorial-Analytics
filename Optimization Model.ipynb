{
 "cells": [
  {
   "cell_type": "code",
   "execution_count": 1,
   "id": "300311b0-014e-4e7c-9b05-849582317775",
   "metadata": {},
   "outputs": [
    {
     "name": "stdout",
     "output_type": "stream",
     "text": [
      "Optimal Budget Allocation:\n",
      "Online Ads: $10000.00\n",
      "Email Campaigns: $8000.00\n",
      "Total ROI: $114000.00\n"
     ]
    }
   ],
   "source": [
    "import pulp\n",
    "\n",
    "# Define marketing channels\n",
    "channels = ['Online Ads', 'Email Campaigns']\n",
    "\n",
    "# Define channel effectiveness (hypothetical data)\n",
    "effectiveness = {'Online Ads': 0.1, 'Email Campaigns': 0.15}\n",
    "\n",
    "# Define budget limits for each channel\n",
    "budget_limits = {'Online Ads': 10000, 'Email Campaigns': 8000}\n",
    "\n",
    "# Define ROI for each channel (hypothetical data)\n",
    "roi = {'Online Ads': 5, 'Email Campaigns': 8}\n",
    "\n",
    "# Define the optimization problem\n",
    "prob = pulp.LpProblem(\"Marketing_Budget_Allocation\", pulp.LpMaximize)\n",
    "\n",
    "# Define decision variables\n",
    "allocation = pulp.LpVariable.dicts(\"Allocation\", channels, lowBound=0, cat='Continuous')\n",
    "\n",
    "# Define objective function: Maximize ROI\n",
    "prob += pulp.lpSum([roi[channel] * allocation[channel] for channel in channels])\n",
    "\n",
    "# Define budget constraint\n",
    "for channel in channels:\n",
    "    prob += allocation[channel] <= budget_limits[channel]\n",
    "\n",
    "# Solve the problem\n",
    "prob.solve()\n",
    "\n",
    "# Print the results\n",
    "print(\"Optimal Budget Allocation:\")\n",
    "for channel in channels:\n",
    "    print(f\"{channel}: ${allocation[channel].varValue:.2f}\")\n",
    "\n",
    "print(f\"Total ROI: ${pulp.value(prob.objective):.2f}\")\n"
   ]
  },
  {
   "cell_type": "code",
   "execution_count": 3,
   "id": "fb8fb5a9-0a8a-4a01-b8c3-dc5908d39d50",
   "metadata": {},
   "outputs": [
    {
     "name": "stdin",
     "output_type": "stream",
     "text": [
      "Enter effectiveness for Online Ads (as a decimal):  0.1\n",
      "Enter effectiveness for Email Campaigns (as a decimal):  0.15\n",
      "Enter budget limit for Online Ads:  10000\n",
      "Enter budget limit for Email Campaigns:  8000\n",
      "Enter ROI for Online Ads:  5\n",
      "Enter ROI for Email Campaigns:  8\n"
     ]
    },
    {
     "name": "stdout",
     "output_type": "stream",
     "text": [
      "Optimal Budget Allocation:\n",
      "Online Ads: $10000.00\n",
      "Email Campaigns: $8000.00\n",
      "Total ROI: $114000.00\n"
     ]
    }
   ],
   "source": [
    "import pulp\n",
    "\n",
    "# Define marketing channels\n",
    "channels = ['Online Ads', 'Email Campaigns']\n",
    "\n",
    "# Get user input for channel effectiveness\n",
    "effectiveness = {}\n",
    "for channel in channels:\n",
    "    effectiveness[channel] = float(input(f\"Enter effectiveness for {channel} (as a decimal): \"))\n",
    "\n",
    "# Get user input for budget limits\n",
    "budget_limits = {}\n",
    "for channel in channels:\n",
    "    budget_limits[channel] = float(input(f\"Enter budget limit for {channel}: \"))\n",
    "\n",
    "# Get user input for ROI\n",
    "roi = {}\n",
    "for channel in channels:\n",
    "    roi[channel] = float(input(f\"Enter ROI for {channel}: \"))\n",
    "\n",
    "# Define the optimization problem\n",
    "prob = pulp.LpProblem(\"Marketing_Budget_Allocation\", pulp.LpMaximize)\n",
    "\n",
    "# Define decision variables\n",
    "allocation = pulp.LpVariable.dicts(\"Allocation\", channels, lowBound=0, cat='Continuous')\n",
    "\n",
    "# Define objective function: Maximize ROI\n",
    "prob += pulp.lpSum([roi[channel] * allocation[channel] for channel in channels])\n",
    "\n",
    "# Define budget constraint\n",
    "for channel in channels:\n",
    "    prob += allocation[channel] <= budget_limits[channel]\n",
    "\n",
    "# Solve the problem\n",
    "prob.solve()\n",
    "\n",
    "# Print the results\n",
    "print(\"Optimal Budget Allocation:\")\n",
    "for channel in channels:\n",
    "    print(f\"{channel}: ${allocation[channel].varValue:.2f}\")\n",
    "\n",
    "print(f\"Total ROI: ${pulp.value(prob.objective):.2f}\")\n"
   ]
  },
  {
   "cell_type": "code",
   "execution_count": null,
   "id": "ad194023-147d-406d-b9ce-997b2a248110",
   "metadata": {},
   "outputs": [],
   "source": []
  }
 ],
 "metadata": {
  "kernelspec": {
   "display_name": "Python 3 (ipykernel)",
   "language": "python",
   "name": "python3"
  },
  "language_info": {
   "codemirror_mode": {
    "name": "ipython",
    "version": 3
   },
   "file_extension": ".py",
   "mimetype": "text/x-python",
   "name": "python",
   "nbconvert_exporter": "python",
   "pygments_lexer": "ipython3",
   "version": "3.9.0"
  }
 },
 "nbformat": 4,
 "nbformat_minor": 5
}
